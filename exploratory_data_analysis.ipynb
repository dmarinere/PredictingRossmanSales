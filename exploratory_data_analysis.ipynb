{
  "nbformat": 4,
  "nbformat_minor": 0,
  "metadata": {
    "kernelspec": {
      "name": "python3",
      "display_name": "Python 3",
      "language": "python"
    },
    "language_info": {
      "name": "python",
      "version": "3.7.6",
      "mimetype": "text/x-python",
      "codemirror_mode": {
        "name": "ipython",
        "version": 3
      },
      "pygments_lexer": "ipython3",
      "nbconvert_exporter": "python",
      "file_extension": ".py"
    },
    "colab": {
      "name": "exploratory-data-analysis.ipynb",
      "provenance": [],
      "collapsed_sections": [],
      "toc_visible": true,
      "include_colab_link": true
    }
  },
  "cells": [
    {
      "cell_type": "markdown",
      "metadata": {
        "id": "view-in-github",
        "colab_type": "text"
      },
      "source": [
        "<a href=\"https://colab.research.google.com/github/dmarinere/PredictingRossmanSales/blob/master/exploratory_data_analysis.ipynb\" target=\"_parent\"><img src=\"https://colab.research.google.com/assets/colab-badge.svg\" alt=\"Open In Colab\"/></a>"
      ]
    },
    {
      "cell_type": "markdown",
      "metadata": {
        "id": "FskhoCgLm00y",
        "colab_type": "text"
      },
      "source": [
        "### Exploratory Data Analysis and Modelling of our RossMann Sales Data\n",
        "\n",
        "\n",
        "**Data** **fields**\n",
        "\n",
        "Most of the fields are self-explanatory. The following are descriptions for those that aren't.\n",
        "\n",
        "**Id** - an Id that represents a (Store, Date) duple within the test set\n",
        "\n",
        "**Store** - a unique Id for each store\n",
        "\n",
        " **Sales** - the turnover for any given day (this is what you are predicting)\n",
        "\n",
        "**Customers** - the number of customers on a given day\n",
        "**Open** - an indicator for whether the store was open: 0 = closed, 1 = open\n",
        "\n",
        "**StateHoliday** - indicates a state holiday. Normally all stores, with few         exceptions, are closed on state holidays. Note that all schools are closed on public holidays and weekends. a = public holiday, b = Easter holiday, c = Christmas, 0 = None\n",
        "\n",
        "**SchoolHoliday** - indicates if the (Store, Date) was affected by the closure of public schools\n",
        "\n",
        "**StoreType** - differentiates between 4 different store models: a, b, c, d\n",
        "\n",
        "**Assortment** - describes an assortment level: a = basic, b = extra, c = extended\n",
        "\n",
        "**CompetitionDistance** - distance in meters to the nearest competitor store\n",
        "\n",
        "**CompetitionOpenSince[Month/Year]** - gives the approximate year and month of the time the nearest competitor was opened\n",
        "\n",
        "**Promo** - indicates whether a store is running a promo on that day\n",
        "\n",
        "**Promo2** - Promo2 is a continuing and consecutive promotion for some stores: 0 = store is not participating, 1 = store is participating\n",
        "\n",
        "**Promo2Since[Year/Week]** - describes the year and calendar week when the store started participating in Promo2\n",
        "\n",
        "**PromoInterval** - describes the consecutive intervals Promo2 is started, naming the months the promotion is started anew. E.g. \"Feb,May,Aug,Nov\" means each round starts in February, May, August, November of any given year for that store\n"
      ]
    },
    {
      "cell_type": "markdown",
      "metadata": {
        "id": "iQqEoyb9mzkJ",
        "colab_type": "text"
      },
      "source": [
        ""
      ]
    },
    {
      "cell_type": "code",
      "metadata": {
        "_uuid": "8f2839f25d086af736a60e9eeb907d3b93b6e0e5",
        "_cell_guid": "b1076dfc-b9ad-4769-8c92-a6c4dae69d19",
        "trusted": true,
        "id": "ZHmuT8O1WYKb",
        "colab_type": "code",
        "colab": {}
      },
      "source": [
        "import warnings\n",
        "warnings.filterwarnings(\"ignore\")\n",
        "\n",
        "# loading packages\n",
        "# basic + dates \n",
        "import numpy as np\n",
        "import pandas as pd\n",
        "import datetime\n",
        "import pickle\n",
        "\n",
        "#SKlearn Modelling and data transform\n",
        "from sklearn.pipeline import Pipeline\n",
        "from sklearn.impute import SimpleImputer\n",
        "from sklearn.preprocessing import RobustScaler, OneHotEncoder\n",
        "from sklearn.compose import ColumnTransformer\n",
        "from sklearn.ensemble import RandomForestRegressor\n",
        "from xgboost import XGBRegressor\n",
        "from sklearn.model_selection import GridSearchCV\n",
        "from sklearn.model_selection import train_test_split\n",
        "from sklearn.metrics import mean_absolute_error, mean_squared_error\n"
      ],
      "execution_count": null,
      "outputs": []
    },
    {
      "cell_type": "code",
      "metadata": {
        "_uuid": "d629ff2d2480ee46fbb7e2d37f6b5fab8052498a",
        "_cell_guid": "79c7e3d0-c299-4dcb-8224-4455121ee9b0",
        "trusted": true,
        "id": "ew81TpZjWYKt",
        "colab_type": "code",
        "colab": {}
      },
      "source": [
        "train = pd.read_csv(\"https://iyanu2.blob.core.windows.net/unzipped/rossmann-store-sales/train.csv\")\n",
        "test = pd.read_csv(\"https://iyanu2.blob.core.windows.net/unzipped/rossmann-store-sales/test.csv\")\n",
        "store = pd.read_csv(\"https://iyanu2.blob.core.windows.net/unzipped/rossmann-store-sales/store.csv\")"
      ],
      "execution_count": null,
      "outputs": []
    },
    {
      "cell_type": "markdown",
      "metadata": {
        "id": "QcN3iVNAP0FM",
        "colab_type": "text"
      },
      "source": [
        "### Merging the data with Store details"
      ]
    },
    {
      "cell_type": "code",
      "metadata": {
        "id": "tprR1NrTe0yj",
        "colab_type": "code",
        "colab": {}
      },
      "source": [
        "train = pd.merge(train, store, on='Store')\n",
        "test = pd.merge(test, store, on='Store')"
      ],
      "execution_count": null,
      "outputs": []
    },
    {
      "cell_type": "code",
      "metadata": {
        "id": "Hljym3PnAzNK",
        "colab_type": "code",
        "colab": {}
      },
      "source": [
        "train = train.loc[train.Open != 0]\n",
        "train = train.loc[train.Sales > 0].reset_index(drop=True)"
      ],
      "execution_count": null,
      "outputs": []
    },
    {
      "cell_type": "code",
      "metadata": {
        "id": "fR938w8tFXZf",
        "colab_type": "code",
        "colab": {}
      },
      "source": [
        "train['PromoInterval']=train['PromoInterval'].fillna(0)\n",
        "test['PromoInterval']=test['PromoInterval'].fillna(0)"
      ],
      "execution_count": null,
      "outputs": []
    },
    {
      "cell_type": "code",
      "metadata": {
        "trusted": true,
        "id": "6yNU47Z3WYLi",
        "colab_type": "code",
        "colab": {}
      },
      "source": [
        "def create_feature(dataset):\n",
        "    \"\"\"\n",
        "    The create feature function would help create features using the date\n",
        "    column and also other features \n",
        "    \"\"\"\n",
        "    \n",
        "    #i would map some categorical variable to numerical if\n",
        "    #that variable present it is replaced\n",
        "    mappings = {'0':0, 'a':1, 'b':2, 'c':3, 'd':4}\n",
        "    dataset.StoreType.replace(mappings, inplace=True)\n",
        "    dataset.Assortment.replace(mappings, inplace=True)\n",
        "    dataset.StateHoliday.replace(mappings, inplace=True)\n",
        "\n",
        "    #converting some categorical variables to object\n",
        "    categ =['DayOfWeek','Open','Promo','StateHoliday','SchoolHoliday']\n",
        "    for i in categ:\n",
        "        dataset = dataset.astype({i:'object'})\n",
        "    \n",
        "    \n",
        "    #convert date column to datetime\n",
        "    dataset['Date']= pd.to_datetime(dataset.Date)\n",
        "    #Feature creation\n",
        "    dataset['Year'] = dataset.Date.dt.year\n",
        "    dataset['Month'] = dataset.Date.dt.month\n",
        "    dataset['Day'] = dataset.Date.dt.day\n",
        "    dataset['DayOfWeek'] = dataset.Date.dt.dayofweek\n",
        "    dataset['WeekOfYear'] = dataset.Date.dt.weekofyear\n",
        "    dataset['CompetitionOpen'] = 12*(dataset.Year-dataset.CompetitionOpenSinceYear\n",
        "                                     ) + (dataset.Month-dataset.CompetitionOpenSinceMonth)\n",
        "    dataset['PromoOpen'] = 12*(dataset.Year-dataset.Promo2SinceYear) + (\n",
        "        dataset.WeekOfYear-dataset.Promo2SinceWeek)/4.0\n",
        "    dataset['CompetitionOpen'] = dataset.CompetitionOpen.apply(\n",
        "        lambda x: x if x > 0 else 0)        \n",
        "    dataset['PromoOpen'] = dataset.PromoOpen.apply(\n",
        "        lambda x: x if x > 0 else 0)\n",
        "    \n",
        "    month2str = {1:'Jan', 2:'Feb', 3:'Mar', 4:'Apr', 5:'May', 6:'Jun', 7:'Jul',\n",
        "                 8:'Aug', 9:'Sept', 10:'Oct', 11:'Nov', 12:'Dec'}\n",
        "    dataset['monthStr'] = dataset.Month.map(month2str)\n",
        "    \n",
        "    dataset.loc[dataset.PromoInterval==0, 'PromoInterval'] = ''\n",
        "    dataset['IsPromoMonth'] = 0\n",
        "    for interval in dataset.PromoInterval.unique():\n",
        "        if interval != '':\n",
        "            for month in interval.split(','):\n",
        "                dataset.loc[(dataset.monthStr == month) & (dataset.PromoInterval == interval), 'IsPromoMonth'] = 1\n",
        "   \n",
        " \n",
        "    dataset = dataset.sort_values('Date')\n",
        "    dataset = dataset.reset_index(drop=True)\n",
        "    return dataset\n"
      ],
      "execution_count": null,
      "outputs": []
    },
    {
      "cell_type": "code",
      "metadata": {
        "id": "IQ9gk9d6ErEE",
        "colab_type": "code",
        "colab": {}
      },
      "source": [
        "train = create_feature(train)\n",
        "test = create_feature(test)"
      ],
      "execution_count": null,
      "outputs": []
    },
    {
      "cell_type": "code",
      "metadata": {
        "id": "ip9NqmKA2hrX",
        "colab_type": "code",
        "colab": {}
      },
      "source": [
        "train =train.sort_values(['Store',\"Date\"])\n",
        "test =test.sort_values(['Store',\"Date\"])"
      ],
      "execution_count": null,
      "outputs": []
    },
    {
      "cell_type": "code",
      "metadata": {
        "id": "ltTgf3EH3ceH",
        "colab_type": "code",
        "colab": {}
      },
      "source": [
        "test['StateHoliday'].value_counts()"
      ],
      "execution_count": null,
      "outputs": []
    },
    {
      "cell_type": "code",
      "metadata": {
        "id": "cHZsRm5XSbF5",
        "colab_type": "code",
        "colab": {}
      },
      "source": [
        "train.to_csv(\"training.csv\")"
      ],
      "execution_count": null,
      "outputs": []
    },
    {
      "cell_type": "code",
      "metadata": {
        "id": "4RNqiV7RAD_O",
        "colab_type": "code",
        "colab": {}
      },
      "source": [
        "y = train.pop('Sales')\n",
        "train = train.drop(['Customers'], axis=1)\n",
        "test = test.drop(['Id'], axis=1)"
      ],
      "execution_count": null,
      "outputs": []
    },
    {
      "cell_type": "code",
      "metadata": {
        "id": "otNFJw6I-tA0",
        "colab_type": "code",
        "colab": {}
      },
      "source": [
        " y = np.log1p(y)"
      ],
      "execution_count": null,
      "outputs": []
    },
    {
      "cell_type": "code",
      "metadata": {
        "id": "q7_IFho39L85",
        "colab_type": "code",
        "colab": {}
      },
      "source": [
        "  x_train, x_val, y_train, y_val = train_test_split(train, y, test_size = .20, random_state = 0)"
      ],
      "execution_count": null,
      "outputs": []
    },
    {
      "cell_type": "code",
      "metadata": {
        "id": "v84pAP-fPiyZ",
        "colab_type": "code",
        "colab": {}
      },
      "source": [
        "numeric_features = train._get_numeric_data().columns\n",
        "categorical_features = train.select_dtypes(include=['object']).columns"
      ],
      "execution_count": null,
      "outputs": []
    },
    {
      "cell_type": "code",
      "metadata": {
        "trusted": true,
        "id": "sPs0S1otWYMI",
        "colab_type": "code",
        "colab": {}
      },
      "source": [
        " \"\"\"\n",
        "    The preprocess function takes as primary argument the d \n",
        "    and peform the following stepwise transformations to it:\n",
        "    \n",
        "    1. impute missing values of numerical and categorical columns \n",
        "    using median and constant values respectively\n",
        "    \n",
        "    2. scales dataset using the RobustScaler (robust to outlier values present in this dataset)\n",
        "    \n",
        "    3. Encodes categorical values to numerical values\n",
        "\"\"\"\n",
        "  \n",
        "# build pipeline to preprocess\n",
        "numeric_transformer = Pipeline([('imputer', SimpleImputer(strategy='median')),\n",
        "                                ('scaler', RobustScaler())])\n",
        "# for categorical variable create new category called missing\n",
        "categorical_transformer = Pipeline([('imputer', SimpleImputer(strategy='constant',\n",
        "                                                              fill_value='missing')),\n",
        "                                    ('onehot', OneHotEncoder(handle_unknown='ignore'))])\n",
        "\n",
        "\n",
        "features  = Pipeline([('features', ColumnTransformer([\n",
        "        ('num', numeric_transformer, numeric_features),\n",
        "        ('cat', categorical_transformer, categorical_features)]))\n",
        "])\n",
        "model = Pipeline([('feature', features ),\n",
        "                ('regressor', RandomForestRegressor())\n",
        "])\n"
      ],
      "execution_count": null,
      "outputs": []
    },
    {
      "cell_type": "code",
      "metadata": {
        "id": "iqsQbLrjfM6H",
        "colab_type": "code",
        "colab": {}
      },
      "source": [
        "model.fit(x_train, y_train)"
      ],
      "execution_count": null,
      "outputs": []
    },
    {
      "cell_type": "markdown",
      "metadata": {
        "id": "G9Eake1PSr-w",
        "colab_type": "text"
      },
      "source": [
        "Our model Accuracy for our test data"
      ]
    },
    {
      "cell_type": "code",
      "metadata": {
        "id": "G_tDCbPTL8pc",
        "colab_type": "code",
        "colab": {
          "base_uri": "https://localhost:8080/",
          "height": 51
        },
        "outputId": "d82f3f19-6c6e-4ed2-8b1d-456e098b2a09"
      },
      "source": [
        "y_pred = model.predict(x_val)\n",
        "print(\"Mean Absolute Error: \", mean_absolute_error(y_val, y_pred).round(4))\n",
        "print(\"Mean Squared Error: \", mean_squared_error(y_val, y_pred).round(4))"
      ],
      "execution_count": null,
      "outputs": [
        {
          "output_type": "stream",
          "text": [
            "Mean Absolute Error:  0.0845\n",
            "Mean Squared Error:  0.0148\n"
          ],
          "name": "stdout"
        }
      ]
    },
    {
      "cell_type": "code",
      "metadata": {
        "id": "gDprpS6X9zj8",
        "colab_type": "code",
        "colab": {}
      },
      "source": [
        "filename = '/content/drive/My Drive/rossman-stores/naive_rf.pkl'\n",
        "pickle.dump(model, open(filename, 'wb'))"
      ],
      "execution_count": null,
      "outputs": []
    },
    {
      "cell_type": "code",
      "metadata": {
        "id": "Gj8t0sx47Dky",
        "colab_type": "code",
        "colab": {}
      },
      "source": [
        "predictions = model.predict(test)\n"
      ],
      "execution_count": null,
      "outputs": []
    },
    {
      "cell_type": "code",
      "metadata": {
        "id": "qHTyhH-67Ksj",
        "colab_type": "code",
        "colab": {}
      },
      "source": [
        " back = np.expm1(predictions)"
      ],
      "execution_count": null,
      "outputs": []
    },
    {
      "cell_type": "code",
      "metadata": {
        "id": "6sQ8pWhMGTC5",
        "colab_type": "code",
        "colab": {}
      },
      "source": [
        "test"
      ],
      "execution_count": null,
      "outputs": []
    },
    {
      "cell_type": "code",
      "metadata": {
        "id": "AAGlo3hR7UzV",
        "colab_type": "code",
        "colab": {
          "base_uri": "https://localhost:8080/",
          "height": 51
        },
        "outputId": "c804b5da-07cf-431b-e6a0-c2ce4fd78845"
      },
      "source": [
        "back"
      ],
      "execution_count": null,
      "outputs": [
        {
          "output_type": "execute_result",
          "data": {
            "text/plain": [
              "array([4850.17674839, 4874.91580274, 5735.83253395, ..., 7196.82131673,\n",
              "       7079.50479042, 7196.56574006])"
            ]
          },
          "metadata": {
            "tags": []
          },
          "execution_count": 37
        }
      ]
    },
    {
      "cell_type": "code",
      "metadata": {
        "id": "gXAEllzMJOQ2",
        "colab_type": "code",
        "colab": {
          "base_uri": "https://localhost:8080/",
          "height": 609
        },
        "outputId": "7c7ecc9e-2840-476c-8368-266eb444b8bb"
      },
      "source": [
        "test"
      ],
      "execution_count": null,
      "outputs": [
        {
          "output_type": "execute_result",
          "data": {
            "text/html": [
              "<div>\n",
              "<style scoped>\n",
              "    .dataframe tbody tr th:only-of-type {\n",
              "        vertical-align: middle;\n",
              "    }\n",
              "\n",
              "    .dataframe tbody tr th {\n",
              "        vertical-align: top;\n",
              "    }\n",
              "\n",
              "    .dataframe thead th {\n",
              "        text-align: right;\n",
              "    }\n",
              "</style>\n",
              "<table border=\"1\" class=\"dataframe\">\n",
              "  <thead>\n",
              "    <tr style=\"text-align: right;\">\n",
              "      <th></th>\n",
              "      <th>Store</th>\n",
              "      <th>DayOfWeek</th>\n",
              "      <th>Date</th>\n",
              "      <th>Open</th>\n",
              "      <th>Promo</th>\n",
              "      <th>StateHoliday</th>\n",
              "      <th>SchoolHoliday</th>\n",
              "      <th>StoreType</th>\n",
              "      <th>Assortment</th>\n",
              "      <th>CompetitionDistance</th>\n",
              "      <th>CompetitionOpenSinceMonth</th>\n",
              "      <th>CompetitionOpenSinceYear</th>\n",
              "      <th>Promo2</th>\n",
              "      <th>Promo2SinceWeek</th>\n",
              "      <th>Promo2SinceYear</th>\n",
              "      <th>PromoInterval</th>\n",
              "      <th>Year</th>\n",
              "      <th>Month</th>\n",
              "      <th>Day</th>\n",
              "      <th>WeekOfYear</th>\n",
              "      <th>CompetitionOpen</th>\n",
              "      <th>PromoOpen</th>\n",
              "      <th>monthStr</th>\n",
              "      <th>IsPromoMonth</th>\n",
              "    </tr>\n",
              "  </thead>\n",
              "  <tbody>\n",
              "    <tr>\n",
              "      <th>842</th>\n",
              "      <td>1</td>\n",
              "      <td>5</td>\n",
              "      <td>2015-08-01</td>\n",
              "      <td>1</td>\n",
              "      <td>0</td>\n",
              "      <td>0</td>\n",
              "      <td>1</td>\n",
              "      <td>3</td>\n",
              "      <td>1</td>\n",
              "      <td>1270.0</td>\n",
              "      <td>9.0</td>\n",
              "      <td>2008.0</td>\n",
              "      <td>0</td>\n",
              "      <td>NaN</td>\n",
              "      <td>NaN</td>\n",
              "      <td></td>\n",
              "      <td>2015</td>\n",
              "      <td>8</td>\n",
              "      <td>1</td>\n",
              "      <td>31</td>\n",
              "      <td>83.0</td>\n",
              "      <td>0.00</td>\n",
              "      <td>Aug</td>\n",
              "      <td>0</td>\n",
              "    </tr>\n",
              "    <tr>\n",
              "      <th>1223</th>\n",
              "      <td>1</td>\n",
              "      <td>6</td>\n",
              "      <td>2015-08-02</td>\n",
              "      <td>0</td>\n",
              "      <td>0</td>\n",
              "      <td>0</td>\n",
              "      <td>1</td>\n",
              "      <td>3</td>\n",
              "      <td>1</td>\n",
              "      <td>1270.0</td>\n",
              "      <td>9.0</td>\n",
              "      <td>2008.0</td>\n",
              "      <td>0</td>\n",
              "      <td>NaN</td>\n",
              "      <td>NaN</td>\n",
              "      <td></td>\n",
              "      <td>2015</td>\n",
              "      <td>8</td>\n",
              "      <td>2</td>\n",
              "      <td>31</td>\n",
              "      <td>83.0</td>\n",
              "      <td>0.00</td>\n",
              "      <td>Aug</td>\n",
              "      <td>0</td>\n",
              "    </tr>\n",
              "    <tr>\n",
              "      <th>1977</th>\n",
              "      <td>1</td>\n",
              "      <td>0</td>\n",
              "      <td>2015-08-03</td>\n",
              "      <td>1</td>\n",
              "      <td>1</td>\n",
              "      <td>0</td>\n",
              "      <td>1</td>\n",
              "      <td>3</td>\n",
              "      <td>1</td>\n",
              "      <td>1270.0</td>\n",
              "      <td>9.0</td>\n",
              "      <td>2008.0</td>\n",
              "      <td>0</td>\n",
              "      <td>NaN</td>\n",
              "      <td>NaN</td>\n",
              "      <td></td>\n",
              "      <td>2015</td>\n",
              "      <td>8</td>\n",
              "      <td>3</td>\n",
              "      <td>32</td>\n",
              "      <td>83.0</td>\n",
              "      <td>0.00</td>\n",
              "      <td>Aug</td>\n",
              "      <td>0</td>\n",
              "    </tr>\n",
              "    <tr>\n",
              "      <th>2634</th>\n",
              "      <td>1</td>\n",
              "      <td>1</td>\n",
              "      <td>2015-08-04</td>\n",
              "      <td>1</td>\n",
              "      <td>1</td>\n",
              "      <td>0</td>\n",
              "      <td>1</td>\n",
              "      <td>3</td>\n",
              "      <td>1</td>\n",
              "      <td>1270.0</td>\n",
              "      <td>9.0</td>\n",
              "      <td>2008.0</td>\n",
              "      <td>0</td>\n",
              "      <td>NaN</td>\n",
              "      <td>NaN</td>\n",
              "      <td></td>\n",
              "      <td>2015</td>\n",
              "      <td>8</td>\n",
              "      <td>4</td>\n",
              "      <td>32</td>\n",
              "      <td>83.0</td>\n",
              "      <td>0.00</td>\n",
              "      <td>Aug</td>\n",
              "      <td>0</td>\n",
              "    </tr>\n",
              "    <tr>\n",
              "      <th>4252</th>\n",
              "      <td>1</td>\n",
              "      <td>2</td>\n",
              "      <td>2015-08-05</td>\n",
              "      <td>1</td>\n",
              "      <td>1</td>\n",
              "      <td>0</td>\n",
              "      <td>1</td>\n",
              "      <td>3</td>\n",
              "      <td>1</td>\n",
              "      <td>1270.0</td>\n",
              "      <td>9.0</td>\n",
              "      <td>2008.0</td>\n",
              "      <td>0</td>\n",
              "      <td>NaN</td>\n",
              "      <td>NaN</td>\n",
              "      <td></td>\n",
              "      <td>2015</td>\n",
              "      <td>8</td>\n",
              "      <td>5</td>\n",
              "      <td>32</td>\n",
              "      <td>83.0</td>\n",
              "      <td>0.00</td>\n",
              "      <td>Aug</td>\n",
              "      <td>0</td>\n",
              "    </tr>\n",
              "    <tr>\n",
              "      <th>...</th>\n",
              "      <td>...</td>\n",
              "      <td>...</td>\n",
              "      <td>...</td>\n",
              "      <td>...</td>\n",
              "      <td>...</td>\n",
              "      <td>...</td>\n",
              "      <td>...</td>\n",
              "      <td>...</td>\n",
              "      <td>...</td>\n",
              "      <td>...</td>\n",
              "      <td>...</td>\n",
              "      <td>...</td>\n",
              "      <td>...</td>\n",
              "      <td>...</td>\n",
              "      <td>...</td>\n",
              "      <td>...</td>\n",
              "      <td>...</td>\n",
              "      <td>...</td>\n",
              "      <td>...</td>\n",
              "      <td>...</td>\n",
              "      <td>...</td>\n",
              "      <td>...</td>\n",
              "      <td>...</td>\n",
              "      <td>...</td>\n",
              "    </tr>\n",
              "    <tr>\n",
              "      <th>36866</th>\n",
              "      <td>1115</td>\n",
              "      <td>6</td>\n",
              "      <td>2015-09-13</td>\n",
              "      <td>0</td>\n",
              "      <td>0</td>\n",
              "      <td>0</td>\n",
              "      <td>0</td>\n",
              "      <td>4</td>\n",
              "      <td>3</td>\n",
              "      <td>5350.0</td>\n",
              "      <td>NaN</td>\n",
              "      <td>NaN</td>\n",
              "      <td>1</td>\n",
              "      <td>22.0</td>\n",
              "      <td>2012.0</td>\n",
              "      <td>Mar,Jun,Sept,Dec</td>\n",
              "      <td>2015</td>\n",
              "      <td>9</td>\n",
              "      <td>13</td>\n",
              "      <td>37</td>\n",
              "      <td>0.0</td>\n",
              "      <td>39.75</td>\n",
              "      <td>Sept</td>\n",
              "      <td>1</td>\n",
              "    </tr>\n",
              "    <tr>\n",
              "      <th>38207</th>\n",
              "      <td>1115</td>\n",
              "      <td>0</td>\n",
              "      <td>2015-09-14</td>\n",
              "      <td>1</td>\n",
              "      <td>1</td>\n",
              "      <td>0</td>\n",
              "      <td>0</td>\n",
              "      <td>4</td>\n",
              "      <td>3</td>\n",
              "      <td>5350.0</td>\n",
              "      <td>NaN</td>\n",
              "      <td>NaN</td>\n",
              "      <td>1</td>\n",
              "      <td>22.0</td>\n",
              "      <td>2012.0</td>\n",
              "      <td>Mar,Jun,Sept,Dec</td>\n",
              "      <td>2015</td>\n",
              "      <td>9</td>\n",
              "      <td>14</td>\n",
              "      <td>38</td>\n",
              "      <td>0.0</td>\n",
              "      <td>40.00</td>\n",
              "      <td>Sept</td>\n",
              "      <td>1</td>\n",
              "    </tr>\n",
              "    <tr>\n",
              "      <th>39120</th>\n",
              "      <td>1115</td>\n",
              "      <td>1</td>\n",
              "      <td>2015-09-15</td>\n",
              "      <td>1</td>\n",
              "      <td>1</td>\n",
              "      <td>0</td>\n",
              "      <td>0</td>\n",
              "      <td>4</td>\n",
              "      <td>3</td>\n",
              "      <td>5350.0</td>\n",
              "      <td>NaN</td>\n",
              "      <td>NaN</td>\n",
              "      <td>1</td>\n",
              "      <td>22.0</td>\n",
              "      <td>2012.0</td>\n",
              "      <td>Mar,Jun,Sept,Dec</td>\n",
              "      <td>2015</td>\n",
              "      <td>9</td>\n",
              "      <td>15</td>\n",
              "      <td>38</td>\n",
              "      <td>0.0</td>\n",
              "      <td>40.00</td>\n",
              "      <td>Sept</td>\n",
              "      <td>1</td>\n",
              "    </tr>\n",
              "    <tr>\n",
              "      <th>39428</th>\n",
              "      <td>1115</td>\n",
              "      <td>2</td>\n",
              "      <td>2015-09-16</td>\n",
              "      <td>1</td>\n",
              "      <td>1</td>\n",
              "      <td>0</td>\n",
              "      <td>0</td>\n",
              "      <td>4</td>\n",
              "      <td>3</td>\n",
              "      <td>5350.0</td>\n",
              "      <td>NaN</td>\n",
              "      <td>NaN</td>\n",
              "      <td>1</td>\n",
              "      <td>22.0</td>\n",
              "      <td>2012.0</td>\n",
              "      <td>Mar,Jun,Sept,Dec</td>\n",
              "      <td>2015</td>\n",
              "      <td>9</td>\n",
              "      <td>16</td>\n",
              "      <td>38</td>\n",
              "      <td>0.0</td>\n",
              "      <td>40.00</td>\n",
              "      <td>Sept</td>\n",
              "      <td>1</td>\n",
              "    </tr>\n",
              "    <tr>\n",
              "      <th>40336</th>\n",
              "      <td>1115</td>\n",
              "      <td>3</td>\n",
              "      <td>2015-09-17</td>\n",
              "      <td>1</td>\n",
              "      <td>1</td>\n",
              "      <td>0</td>\n",
              "      <td>0</td>\n",
              "      <td>4</td>\n",
              "      <td>3</td>\n",
              "      <td>5350.0</td>\n",
              "      <td>NaN</td>\n",
              "      <td>NaN</td>\n",
              "      <td>1</td>\n",
              "      <td>22.0</td>\n",
              "      <td>2012.0</td>\n",
              "      <td>Mar,Jun,Sept,Dec</td>\n",
              "      <td>2015</td>\n",
              "      <td>9</td>\n",
              "      <td>17</td>\n",
              "      <td>38</td>\n",
              "      <td>0.0</td>\n",
              "      <td>40.00</td>\n",
              "      <td>Sept</td>\n",
              "      <td>1</td>\n",
              "    </tr>\n",
              "  </tbody>\n",
              "</table>\n",
              "<p>41088 rows × 24 columns</p>\n",
              "</div>"
            ],
            "text/plain": [
              "       Store  DayOfWeek       Date  ... PromoOpen monthStr IsPromoMonth\n",
              "842        1          5 2015-08-01  ...      0.00      Aug            0\n",
              "1223       1          6 2015-08-02  ...      0.00      Aug            0\n",
              "1977       1          0 2015-08-03  ...      0.00      Aug            0\n",
              "2634       1          1 2015-08-04  ...      0.00      Aug            0\n",
              "4252       1          2 2015-08-05  ...      0.00      Aug            0\n",
              "...      ...        ...        ...  ...       ...      ...          ...\n",
              "36866   1115          6 2015-09-13  ...     39.75     Sept            1\n",
              "38207   1115          0 2015-09-14  ...     40.00     Sept            1\n",
              "39120   1115          1 2015-09-15  ...     40.00     Sept            1\n",
              "39428   1115          2 2015-09-16  ...     40.00     Sept            1\n",
              "40336   1115          3 2015-09-17  ...     40.00     Sept            1\n",
              "\n",
              "[41088 rows x 24 columns]"
            ]
          },
          "metadata": {
            "tags": []
          },
          "execution_count": 38
        }
      ]
    },
    {
      "cell_type": "code",
      "metadata": {
        "id": "nnlF0-6BID_T",
        "colab_type": "code",
        "colab": {}
      },
      "source": [
        "sub= test[['Store','Date']]"
      ],
      "execution_count": null,
      "outputs": []
    },
    {
      "cell_type": "code",
      "metadata": {
        "id": "58hkWHZ4I7xC",
        "colab_type": "code",
        "colab": {}
      },
      "source": [
        "sub['Prediction'] = back"
      ],
      "execution_count": null,
      "outputs": []
    },
    {
      "cell_type": "code",
      "metadata": {
        "id": "LmIEeWdvLHjs",
        "colab_type": "code",
        "colab": {}
      },
      "source": [
        "sub.to_csv(\"/content/drive/My Drive/rossman-stores/prediction.csv\")"
      ],
      "execution_count": null,
      "outputs": []
    }
  ]
}